{
 "cells": [
  {
   "cell_type": "code",
   "execution_count": 20,
   "metadata": {},
   "outputs": [],
   "source": [
    "# Import the necessary modules for computation\n",
    "import random\n",
    "import numpy as np\n",
    "import pandas as pd\n",
    "\n",
    "from IPython.display import display\n",
    "\n",
    "# To plot pretty figures\n",
    "%matplotlib inline\n",
    "import matplotlib\n",
    "from matplotlib.pyplot import *\n"
   ]
  },
  {
   "cell_type": "code",
   "execution_count": 21,
   "metadata": {},
   "outputs": [],
   "source": [
    "# Define our main class (Vector). It's contains a bunch of functions for vector spaces computation.\n",
    "class Vector(complex):\n",
    "    \n",
    "    def __init__(self):\n",
    "        pass\n",
    "    \n",
    "    # Generate a vector of complex numbers. Takes the number of colomns and rows as arguments.\n",
    "    def complex_vector(y_size, x_size, max_range=10, min_range=-10):\n",
    "        array_data = []\n",
    "        for i in range(int(y_size * x_size)):\n",
    "            array_data += [complex(random.randint(min_range, max_range), random.randint(min_range, max_range))]\n",
    "\n",
    "        return np.array(array_data).reshape(y_size, x_size)\n",
    "    \n",
    "    def complex_list(length, max_range=10, min_range=-10):\n",
    "        array_data = []\n",
    "        for i in range(int(length)):\n",
    "            array_data += [complex(random.randint(min_range, max_range), random.randint(min_range, max_range))]\n",
    "\n",
    "        return np.array(array_data)\n"
   ]
  },
  {
   "cell_type": "code",
   "execution_count": 22,
   "metadata": {},
   "outputs": [],
   "source": [
    "# Define some random vectors\n",
    "complex_vector = Vector.complex_vector(4,4)\n",
    "complex_list = Vector.complex_list(16)"
   ]
  },
  {
   "cell_type": "code",
   "execution_count": 23,
   "metadata": {},
   "outputs": [
    {
     "data": {
      "text/html": [
       "<div>\n",
       "<style scoped>\n",
       "    .dataframe tbody tr th:only-of-type {\n",
       "        vertical-align: middle;\n",
       "    }\n",
       "\n",
       "    .dataframe tbody tr th {\n",
       "        vertical-align: top;\n",
       "    }\n",
       "\n",
       "    .dataframe thead th {\n",
       "        text-align: right;\n",
       "    }\n",
       "</style>\n",
       "<table border=\"1\" class=\"dataframe\">\n",
       "  <thead>\n",
       "    <tr style=\"text-align: right;\">\n",
       "      <th></th>\n",
       "      <th>0</th>\n",
       "      <th>1</th>\n",
       "      <th>2</th>\n",
       "      <th>3</th>\n",
       "    </tr>\n",
       "  </thead>\n",
       "  <tbody>\n",
       "    <tr>\n",
       "      <th>0</th>\n",
       "      <td>(2+5j)</td>\n",
       "      <td>-3j</td>\n",
       "      <td>(1+6j)</td>\n",
       "      <td>(10-7j)</td>\n",
       "    </tr>\n",
       "    <tr>\n",
       "      <th>1</th>\n",
       "      <td>(-7-5j)</td>\n",
       "      <td>(6+3j)</td>\n",
       "      <td>(9-1j)</td>\n",
       "      <td>(-1+1j)</td>\n",
       "    </tr>\n",
       "    <tr>\n",
       "      <th>2</th>\n",
       "      <td>(1+10j)</td>\n",
       "      <td>(-4+2j)</td>\n",
       "      <td>(-3-3j)</td>\n",
       "      <td>(4-7j)</td>\n",
       "    </tr>\n",
       "    <tr>\n",
       "      <th>3</th>\n",
       "      <td>(-2-9j)</td>\n",
       "      <td>(8-1j)</td>\n",
       "      <td>(8+7j)</td>\n",
       "      <td>(9-5j)</td>\n",
       "    </tr>\n",
       "  </tbody>\n",
       "</table>\n",
       "</div>"
      ],
      "text/plain": [
       "         0        1        2        3\n",
       "0   (2+5j)      -3j   (1+6j)  (10-7j)\n",
       "1  (-7-5j)   (6+3j)   (9-1j)  (-1+1j)\n",
       "2  (1+10j)  (-4+2j)  (-3-3j)   (4-7j)\n",
       "3  (-2-9j)   (8-1j)   (8+7j)   (9-5j)"
      ]
     },
     "metadata": {},
     "output_type": "display_data"
    },
    {
     "data": {
      "text/html": [
       "<div>\n",
       "<style scoped>\n",
       "    .dataframe tbody tr th:only-of-type {\n",
       "        vertical-align: middle;\n",
       "    }\n",
       "\n",
       "    .dataframe tbody tr th {\n",
       "        vertical-align: top;\n",
       "    }\n",
       "\n",
       "    .dataframe thead th {\n",
       "        text-align: right;\n",
       "    }\n",
       "</style>\n",
       "<table border=\"1\" class=\"dataframe\">\n",
       "  <thead>\n",
       "    <tr style=\"text-align: right;\">\n",
       "      <th></th>\n",
       "      <th>0</th>\n",
       "      <th>1</th>\n",
       "      <th>2</th>\n",
       "      <th>3</th>\n",
       "    </tr>\n",
       "  </thead>\n",
       "  <tbody>\n",
       "    <tr>\n",
       "      <th>0</th>\n",
       "      <td>(2-5j)</td>\n",
       "      <td>3j</td>\n",
       "      <td>(1-6j)</td>\n",
       "      <td>(10+7j)</td>\n",
       "    </tr>\n",
       "    <tr>\n",
       "      <th>1</th>\n",
       "      <td>(-7+5j)</td>\n",
       "      <td>(6-3j)</td>\n",
       "      <td>(9+1j)</td>\n",
       "      <td>(-1-1j)</td>\n",
       "    </tr>\n",
       "    <tr>\n",
       "      <th>2</th>\n",
       "      <td>(1-10j)</td>\n",
       "      <td>(-4-2j)</td>\n",
       "      <td>(-3+3j)</td>\n",
       "      <td>(4+7j)</td>\n",
       "    </tr>\n",
       "    <tr>\n",
       "      <th>3</th>\n",
       "      <td>(-2+9j)</td>\n",
       "      <td>(8+1j)</td>\n",
       "      <td>(8-7j)</td>\n",
       "      <td>(9+5j)</td>\n",
       "    </tr>\n",
       "  </tbody>\n",
       "</table>\n",
       "</div>"
      ],
      "text/plain": [
       "         0        1        2        3\n",
       "0   (2-5j)       3j   (1-6j)  (10+7j)\n",
       "1  (-7+5j)   (6-3j)   (9+1j)  (-1-1j)\n",
       "2  (1-10j)  (-4-2j)  (-3+3j)   (4+7j)\n",
       "3  (-2+9j)   (8+1j)   (8-7j)   (9+5j)"
      ]
     },
     "metadata": {},
     "output_type": "display_data"
    }
   ],
   "source": [
    "# Display the vectors\n",
    "# Here we use display() to show multiple dataframes from 1 cell\n",
    "display(pd.DataFrame(complex_vector))\n",
    "display(pd.DataFrame(complex_vector.conjugate()))"
   ]
  },
  {
   "cell_type": "code",
   "execution_count": 24,
   "metadata": {},
   "outputs": [
    {
     "data": {
      "text/plain": [
       "array([ 10. -7.j,   7. +9.j,  10. +2.j, -10. +7.j,   4. -6.j,   6. -7.j,\n",
       "        -7. -8.j,  -3. +3.j,  -9. +3.j,   1.-10.j,   3. -8.j, -10. +4.j,\n",
       "         4. +3.j,   4. +0.j,  -1. -5.j,  -5. +9.j])"
      ]
     },
     "execution_count": 24,
     "metadata": {},
     "output_type": "execute_result"
    }
   ],
   "source": [
    "complex_list"
   ]
  },
  {
   "cell_type": "code",
   "execution_count": 27,
   "metadata": {},
   "outputs": [
    {
     "data": {
      "text/plain": [
       "<matplotlib.lines.Line2D at 0x7fbb9aa8f588>"
      ]
     },
     "execution_count": 27,
     "metadata": {},
     "output_type": "execute_result"
    },
    {
     "data": {
      "image/png": "[encoded data removed]",
      "text/plain": [
       "<matplotlib.figure.Figure at 0x7fbb9aacd9e8>"
      ]
     },
     "metadata": {},
     "output_type": "display_data"
    }
   ],
   "source": [
    "fig,ax = subplots()\n",
    "font_color = 'black'\n",
    "\n",
    "# Set the Title\n",
    "ax.set_title('Complex Numbers', fontsize=20, fontweight='bold', y=1.08)\n",
    "ax.title.set_color(font_color)\n",
    "\n",
    "# Set the x and y labels\n",
    "ax.set_ylabel(r'$\\in  Imaginary  (\\Im$)', fontsize=20)\n",
    "ax.set_xlabel(r'$\\in  Real  (\\Re)$', fontsize=20)\n",
    "ax.xaxis.label.set_color(font_color)\n",
    "ax.yaxis.label.set_color(font_color)\n",
    "\n",
    "# Add a grid\n",
    "ax.grid(True, which='both')\n",
    "\n",
    "# Plot the graphic\n",
    "ax.scatter(complex_list.real, complex_list.imag)\n",
    "\n",
    "# Add x and y axes values\n",
    "ax.tick_params(axis='x', colors=font_color)\n",
    "ax.tick_params(axis='y', colors=font_color)\n",
    "\n",
    "# Add axes passing by the origin coordinates\n",
    "ax.axhline(y=0, color='k')\n",
    "ax.axvline(x=0, color='k')"
   ]
  },
  {
   "cell_type": "code",
   "execution_count": null,
   "metadata": {},
   "outputs": [],
   "source": []
  }
 ],
 "metadata": {
  "kernelspec": {
   "display_name": "Python 3",
   "language": "python",
   "name": "python3"
  },
  "language_info": {
   "codemirror_mode": {
    "name": "ipython",
    "version": 3
   },
   "file_extension": ".py",
   "mimetype": "text/x-python",
   "name": "python",
   "nbconvert_exporter": "python",
   "pygments_lexer": "ipython3",
   "version": "3.5.2"
  }
 },
 "nbformat": 4,
 "nbformat_minor": 2
}
